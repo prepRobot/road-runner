{
 "cells": [
  {
   "cell_type": "markdown",
   "metadata": {},
   "source": [
    "# Road Runner Lite From Scratch\n",
    "\n",
    "This tutorial walks through the creation of a lite [Road Runner](https://github.com/acmerobotics/road-runner). The goal is to cover all of the math and code for a simple version. Hopefully this clarifies some of the magic inside the library and provides a basis for further experimentation. For a more complete exposition of what Road Runner offers, see the tour portion of the [docs](https://acme-robotics.gitbook.io/road-runner/tour/introduction). All you need to begin is familiarity with single-variable calculus, vectors, and parametric curves. If you're just lacking the last prerequisite, we recommend working through [this unit](https://www.khanacademy.org/math/multivariable-calculus/multivariable-derivatives/position-vector-functions/v/position-vector-valued-functions) on Khan Academy.\n",
    "\n",
    "For now, the tutorial is written in Python instead of Kotlin. The code intentionally avoids advanced features when simple ones will do. It aims to be direct and comprehensible at the cost of being idiomatic. We begin with some standard imports."
   ]
  },
  {
   "cell_type": "code",
   "execution_count": null,
   "metadata": {},
   "outputs": [],
   "source": [
    "import numpy as np\n",
    "import matplotlib.pyplot as plt\n",
    "\n",
    "vectorize_tail = lambda f: np.vectorize(f, excluded={0})"
   ]
  },
  {
   "cell_type": "markdown",
   "metadata": {},
   "source": [
    "## Trajectories\n",
    "\n",
    "Let's focus first on moving smoothly in a single dimension. Say we have a robot with position $x$ that we want to move from rest at $x_0$ to rest at $x_1$ (where $x_1 \\geq x_0$). We're looking for a function of time $x(t)$ that satisfies $x(0) = x_0$ and $x(\\Delta t) = x_1$ (where $\\Delta t \\geq 0$). This allows us to determine the position at any time as well as velocity, acceleration, and higher-order time derivatives of $x(t)$. There are many such functions, so we'd like the minimum-time one that obeys the velocity constraint $|x'(t)| \\leq v_{max}$ for all $0 \\leq t \\leq \\Delta t$ (where $v_{max} > 0$). As you might suspect, the optimal trajectory maximizes the constraint by setting $x'(t) = v_{max}$. The corresponding position function is\n",
    "\\begin{align*}\n",
    "    \\int_0^t x'(\\tau) \\, d\\tau &= \\int_0^t v_{max} \\, d\\tau\\\\\n",
    "    x(t) - x(0) &= v_{max} t\\\\\n",
    "    x(t) &= x_0 + v_{max} t.\n",
    "\\end{align*}\n",
    "The final position constraint can be satisfied by choosing the duration\n",
    "\\begin{align*}\n",
    "    x_1 &= x_0 + v_{max} \\Delta t\\\\\n",
    "    \\Delta t &= \\frac{x_1 - x_0}{v_{max}}.\n",
    "\\end{align*}"
   ]
  },
  {
   "cell_type": "markdown",
   "metadata": {},
   "source": [
    "The following snippet implements this velocity-limited trajectory generator."
   ]
  },
  {
   "cell_type": "code",
   "execution_count": null,
   "metadata": {},
   "outputs": [],
   "source": [
    "def vel_traj_gen(x0, x1, vmax):\n",
    "    dt = (x1 - x0) / vmax\n",
    "    return x0, vmax, dt\n",
    "\n",
    "\n",
    "traj_x0, traj_v, traj_dt = vel_traj_gen(-20, 80, 30)\n",
    "t = np.linspace(0, traj_dt, 100)\n",
    "\n",
    "fig, ax = plt.subplots(1, 2, figsize=(12, 4))\n",
    "\n",
    "ax[0].set_title('Velocity-Limited Trajectory Velocity')\n",
    "ax[0].set_xlabel('time [s]')\n",
    "ax[0].set_ylabel('velocity [in/s]')\n",
    "ax[0].plot(t, np.full(t.shape, traj_v)) \n",
    "\n",
    "ax[1].set_title('Velocity-Limited Trajectory Position')\n",
    "ax[1].set_xlabel('time [s]')\n",
    "ax[1].set_ylabel('position [in]')\n",
    "ax[1].plot(t, traj_x0 + traj_v * t)"
   ]
  },
  {
   "cell_type": "markdown",
   "metadata": {},
   "source": [
    "The assumption so far is that the robot can execute the trajectory generated. However, it takes time for the robot to get from rest to high velocity. A better model of the robot's motion includes a maximum acceleration limit $|x''(t)| \\leq a_{max}$ for all $0 \\leq t \\leq \\Delta t$ (where $a_{max} > 0$). In this case, the optimal trajectory from $x_0$ to $x_1$ has multiple phases: acceleration, coast, and deceleration. The first and last phases maximize acceleration magnitude, while the second phase maximizes velocity. To save room, we will use the standard constant-velocity and constant-acceleration formulas. These can all be derived with rudimentary calculus as shown in the previous paragraph.\n",
    "\n",
    "The first phase has acceleration $a_{max}$, and the duration is\n",
    "\\begin{align*}\n",
    "    v_{max} &= 0 + a_{max} \\Delta t_1\\\\\n",
    "    \\Delta t_1 &= \\frac{v_{max}}{a_{max}}.\n",
    "\\end{align*}\n",
    "The third phase has acceleration $-a_{max}$, and the duration is\n",
    "\\begin{align*}\n",
    "    0 &= v_{max} - a_{max} \\Delta t_3\\\\\n",
    "    \\Delta t_3 &= \\frac{v_{max}}{a_{max}}.\n",
    "\\end{align*}\n",
    "which is the same as the first. This accords with the symmetry of the two phases. To compute the second phase duration, we massage the second position constraint into\n",
    "\\begin{align*}\n",
    "    x_1 &= x_0 + \\frac{1}{2} a_{max} \\Delta t_1^2 + v_{max} \\Delta t_2 + v_{max} \\Delta t_3 - \\frac{1}{2} a_{max} \\Delta t_3^2\\\\\n",
    "    &= x_0 + v_{max} \\Delta t_2 + \\frac{v_{max}^2}{a_{max}}\\\\\n",
    "    \\Delta t_2 &= \\frac{x_1 - x_0}{v_{max}} - \\frac{v_{max}}{a_{max}}.\n",
    "\\end{align*}\n",
    "But there's a potential problem here. What if the computed $\\Delta t_2$ is negative? In this case, the robot doesn't have time to reach the maximum velocity and goes straight from acceleration into deceleration. As before, the duration of the two phases are $\\Delta t_1 = \\Delta t_3 = \\Delta t$. The time is\n",
    "\\begin{align*}\n",
    "    x_1 &= x_0 + \\frac{1}{2} a_{max} \\Delta t_1^2 + a_{max} \\Delta t_3^2 - \\frac{1}{2} a_{max} \\Delta t_3^2\\\\\n",
    "    &= x_0 + a_{max} \\Delta t_1^2\\\\\n",
    "    \\Delta t_1 &= \\sqrt{\\frac{x_1 - x_0}{a_{max}}}\n",
    "\\end{align*}"
   ]
  },
  {
   "cell_type": "markdown",
   "metadata": {},
   "source": [
    "With both the normal and degenerate case covered, we can implement the acceleration-limited trajectory generation."
   ]
  },
  {
   "cell_type": "code",
   "execution_count": null,
   "metadata": {},
   "outputs": [],
   "source": [
    "def accel_traj_gen(x0, x1, vmax, amax):\n",
    "    dx = x1 - x0\n",
    "    if vmax / amax < dx / vmax:\n",
    "        # normal trajectory\n",
    "        dt1 = vmax / amax\n",
    "        dt2 = dx / vmax - vmax / amax\n",
    "        dt3 = dt1\n",
    "        return x0, (\n",
    "            (amax, dt1),\n",
    "            (0, dt2),\n",
    "            (-amax, dt3)\n",
    "        )\n",
    "    else:\n",
    "        # degenerate trajectory\n",
    "        dt1 = np.sqrt(dx / amax)\n",
    "        dt2 = dt1\n",
    "        return x0, (\n",
    "            (amax, dt1), \n",
    "            (-amax, dt2)\n",
    "        )"
   ]
  },
  {
   "cell_type": "markdown",
   "metadata": {},
   "source": [
    "For the trajectory to be useful, we need a few utilities. Ignore `@vectorize_tail`; it's just for plotting."
   ]
  },
  {
   "cell_type": "code",
   "execution_count": null,
   "metadata": {},
   "outputs": [],
   "source": [
    "@vectorize_tail\n",
    "def accel_traj_get_accel(traj, t):\n",
    "    _, phases = traj\n",
    "    for a, dt in phases:\n",
    "        if t < dt:\n",
    "            return a\n",
    "        \n",
    "        t -= dt\n",
    "    return a\n",
    "\n",
    "        \n",
    "@vectorize_tail\n",
    "def accel_traj_get_vel(traj, t):\n",
    "    _, phases = traj\n",
    "    v0 = 0\n",
    "    for a, dt in phases:\n",
    "        if t < dt:\n",
    "            return v0 + a * t\n",
    "        \n",
    "        v0 += a * dt\n",
    "        \n",
    "        t -= dt\n",
    "    return v0\n",
    "    \n",
    "    \n",
    "@vectorize_tail\n",
    "def accel_traj_get_pos(traj, t):\n",
    "    x0, phases = traj\n",
    "    v0 = 0\n",
    "    for a, dt in phases:\n",
    "        if t < dt:\n",
    "            return x0 + v0 * t + a * t**2 / 2\n",
    "        \n",
    "        x0 += v0 * dt + a * dt**2 / 2\n",
    "        v0 += a * dt\n",
    "        \n",
    "        t -= dt \n",
    "    return x0\n",
    "\n",
    "\n",
    "def accel_traj_duration(traj):\n",
    "    _, phases = traj\n",
    "    duration = 0\n",
    "    for _, dt in phases:\n",
    "        duration += dt\n",
    "    return duration"
   ]
  },
  {
   "cell_type": "markdown",
   "metadata": {},
   "source": [
    "Finally, we can make some plots."
   ]
  },
  {
   "cell_type": "code",
   "execution_count": null,
   "metadata": {},
   "outputs": [],
   "source": [
    "traj = accel_traj_gen(-20, 80, 30, 30)\n",
    "\n",
    "t = np.linspace(0, accel_traj_duration(traj), 100)\n",
    "\n",
    "fig, ax = plt.subplots(1, 3, figsize=(18, 4))\n",
    "\n",
    "ax[0].set_title('Acceleration-Limited Trajectory Acceleration')\n",
    "ax[0].set_xlabel('time [s]')\n",
    "ax[0].set_ylabel('acceleration [in/s^2]')\n",
    "ax[0].plot(t, accel_traj_get_accel(traj, t))\n",
    "\n",
    "ax[1].set_title('Acceleration-Limited Trajectory Velocity')\n",
    "ax[1].set_xlabel('time [s]')\n",
    "ax[1].set_ylabel('velocity [in/s]')\n",
    "ax[1].plot(t, accel_traj_get_vel(traj, t))\n",
    "\n",
    "ax[2].set_title('Acceleration-Limited Trajectory Position')\n",
    "ax[2].set_xlabel('time [s]')\n",
    "ax[2].set_ylabel('position [in]')\n",
    "ax[2].plot(t, accel_traj_get_pos(traj, t))"
   ]
  },
  {
   "cell_type": "markdown",
   "metadata": {},
   "source": [
    "Try adjusting the parameters to get a degenerate trajectory with only two segments."
   ]
  },
  {
   "cell_type": "markdown",
   "metadata": {},
   "source": [
    "## Splines\n",
    "\n",
    "Of course, we don't want our robot to just travel in straight lines. Our next objective is to find a path between two locations on the field. Let's assume these locations correspond with vectors $(x_0, y_0)$ and $(x_1, y_1)$ in a fixed coordinate frame. The simplest path between these points is a line, of course. However, a line isn't always suitable. Perhaps there is a field element in the way, or you want to control the direction with which the robot approaches the goal. These requirements motivate a more flexible kind of path that can bend."
   ]
  },
  {
   "cell_type": "markdown",
   "metadata": {},
   "source": [
    "One common shape is a polynomial spline. The general 2D cubic spline has the form\n",
    "\\begin{align*}\n",
    "    x(u) &= a_x u^3 + b_x u^2 + c_x u + d_x\\\\\n",
    "    y(u) &= a_y u^3 + b_y u^2 + c_y u + d_y\n",
    "\\end{align*}\n",
    "where $0 \\leq u \\leq 1$. To make sure the curve hits our vectors, we impose the constraints\n",
    "\\begin{align*}\n",
    "    x(0) &= x_0 & x(1) &= x_1\\\\\n",
    "    y(0) &= y_0 & y(1) &= y_1.\n",
    "\\end{align*}\n",
    "And now the extra flexibility of the spline enables us to specify the begin and end tangents, $(x'_0, y'_0)$ and $(x'_1, y'_1)$. These requirements give the derivative constraints\n",
    "\\begin{align*}\n",
    "    x'(0) &= x'_0 & x'(1) &= x'_1\\\\\n",
    "    y'(0) &= y'_0 & y'(1) &= y'_1.\n",
    "\\end{align*}\n",
    "At this point, you may have noticed that $x$ and $y$ seem independent. Indeed, the two splines can be computed separately. Let's consider the $x$ one and suppress the subscripts on the coefficients. The derivative is\n",
    "$$\n",
    "    x'(u) = 3 a u^2 + 2 b u + c.\n",
    "$$\n",
    "Evaluating all of the constraints, we obtain the system of equations\n",
    "\\begin{align*}\n",
    "    x_0 &= d\\\\\n",
    "    x'_0 &= c\\\\\n",
    "    x_1 &= a + b + c + d\\\\\n",
    "    x'_1 &= 3a + 2b + c.\n",
    "\\end{align*}\n",
    "As an exercise, you can verify that the solution is \n",
    "\\begin{align*}\n",
    "    a &= 2x_0 + x'_0 - 2x_1 + x'_1\\\\\n",
    "    b &= -3x_0 - 2x'_0 + 3x_1 - x'_1\\\\\n",
    "    c &= x'_0\\\\\n",
    "    d &= x_0.\n",
    "\\end{align*}"
   ]
  },
  {
   "cell_type": "markdown",
   "metadata": {},
   "source": [
    "All right, we can write methods to fit spline parameters and give spline values and derivatives."
   ]
  },
  {
   "cell_type": "code",
   "execution_count": null,
   "metadata": {},
   "outputs": [],
   "source": [
    "def spline_fit(x0, dx0, x1, dx1):\n",
    "    a = 2 * x0 + dx0 - 2 * x1 + dx1\n",
    "    b = -3 * x0 - 2 * dx0 + 3 * x1 - dx1\n",
    "    c = dx0\n",
    "    d = x0\n",
    "    return a, b, c, d\n",
    "\n",
    "def spline_get(spline, u):\n",
    "    a, b, c, d = spline\n",
    "    return a * u**3 + b * u**2 + c * u + d\n",
    "\n",
    "def spline_deriv(spline, u):\n",
    "    a, b, c, d = spline\n",
    "    return 3 * a * u**2 + 2 * b * u + c"
   ]
  },
  {
   "cell_type": "markdown",
   "metadata": {},
   "source": [
    "Let's give this a quick test."
   ]
  },
  {
   "cell_type": "code",
   "execution_count": null,
   "metadata": {},
   "outputs": [],
   "source": [
    "x_spline = spline_fit(0, 36, 24, 30)\n",
    "y_spline = spline_fit(0, -24, 24, -9)\n",
    "u = np.linspace(0, 1, 100)\n",
    "\n",
    "plt.title('Cubic Spline')\n",
    "plt.xlabel('x [in]')\n",
    "plt.ylabel('y [in]')\n",
    "\n",
    "plt.plot(spline_get(x_spline, u), spline_get(y_spline, u))\n",
    "\n",
    "print(spline_get(x_spline, 0), spline_deriv(x_spline, 0), spline_get(x_spline, 1), spline_deriv(x_spline, 1))\n",
    "print(spline_get(y_spline, 0), spline_deriv(y_spline, 0), spline_get(y_spline, 1), spline_deriv(y_spline, 1))"
   ]
  },
  {
   "cell_type": "markdown",
   "metadata": {},
   "source": [
    "We have a spline now, but we need one more step before we can make a spline trajectory. We'd like a spline function with displacement $s$ along the path as its argument, but we instead have a meaningless spline parameter $u$. Mathematically, the distance can be computed with the integral\n",
    "$$\n",
    "    s(u) = \\int_0^u \\sqrt{\\left( \\frac{dx}{d\\upsilon} \\right)^2 + \\left( \\frac{dy}{d\\upsilon} \\right)^2} \\, d\\upsilon\n",
    "$$\n",
    "where the dummy variable $\\upsilon$ replaces $u$ in the integrand. All we need to do is invert this to get $u(s)$. This is tricky to do analytically, but fortunately, the inverse exists and we can approximate it in code."
   ]
  },
  {
   "cell_type": "code",
   "execution_count": null,
   "metadata": {},
   "outputs": [],
   "source": [
    "upsilon = np.linspace(0, 1, 100)\n",
    "dupsilon = upsilon[1] - upsilon[0]\n",
    "integrand = np.sqrt(\n",
    "    spline_deriv(x_spline, upsilon)**2 + \n",
    "    spline_deriv(y_spline, upsilon)**2\n",
    ")\n",
    "\n",
    "sums = np.zeros_like(upsilon)\n",
    "last_sum = 0\n",
    "for i in range(len(upsilon)):\n",
    "    sums[i] = last_sum + integrand[i] * dupsilon\n",
    "    last_sum = sums[i]\n",
    "\n",
    "\n",
    "@np.vectorize\n",
    "def disp_of_spline_param(u):\n",
    "    for i in range(len(upsilon)):\n",
    "        if u < upsilon[i]:\n",
    "            return sums[i]\n",
    "    \n",
    "\n",
    "u = np.linspace(0, 1, 100)\n",
    "\n",
    "fig, ax = plt.subplots(1, 2, figsize=(12, 4))\n",
    "\n",
    "ax[0].set_title('Displacement vs. Spline Parameter')\n",
    "ax[0].set_xlabel('u')\n",
    "ax[0].set_ylabel('s [in]')\n",
    "ax[0].plot(u, disp_of_spline_param(u))\n",
    "\n",
    "ax[1].set_title('Spline Parameter vs. Displacement')\n",
    "ax[1].set_xlabel('s [in]')\n",
    "ax[1].set_ylabel('u')\n",
    "ax[1].plot(disp_of_spline_param(u), u)"
   ]
  },
  {
   "cell_type": "markdown",
   "metadata": {},
   "source": [
    "The left plot is a rough approximation of $s(u)$ computed by estimating the integral, and the right plot is the approximation's inverse. The method below implements this function by finding the closest integral sum."
   ]
  },
  {
   "cell_type": "code",
   "execution_count": null,
   "metadata": {},
   "outputs": [],
   "source": [
    "@np.vectorize\n",
    "def spline_param_of_disp(s):\n",
    "    for i in range(len(sums)):\n",
    "        if s < sums[i]:\n",
    "            return upsilon[i]"
   ]
  },
  {
   "cell_type": "markdown",
   "metadata": {},
   "source": [
    "Note the similarities between the two methods. Now we put everything together and generate a trajectory for the spline!"
   ]
  },
  {
   "cell_type": "code",
   "execution_count": null,
   "metadata": {},
   "outputs": [],
   "source": [
    "length = sums[-1]\n",
    "traj = accel_traj_gen(0, length, 30, 30)\n",
    "t = np.linspace(0, accel_traj_duration(traj), 100)\n",
    "\n",
    "s = accel_traj_get_pos(traj, t)\n",
    "\n",
    "u = spline_param_of_disp(s)\n",
    "\n",
    "x = spline_get(x_spline, u)\n",
    "y = spline_get(y_spline, u)\n",
    "\n",
    "plt.title('Spline Trajectory Position')\n",
    "plt.xlabel('time [s]')\n",
    "plt.ylabel('position [in]')\n",
    "plt.plot(t, x, label='x')\n",
    "plt.plot(t, y, label='y')\n",
    "plt.legend()"
   ]
  },
  {
   "cell_type": "markdown",
   "metadata": {},
   "source": [
    "Each component of the trajectory is the composition of three functions: $(x(u(s(t))), y(u(s(t))))$. We can find the velocity by differentiating with respect to $t$. For the $x$-component, this gives\n",
    "\\begin{align*}\n",
    "    x'(t) &= \\frac{d}{dt} x(u(s(t))))\\\\\n",
    "    &= x'(u(s(t)) \\, u'(s(t)) \\, s'(t).\n",
    "\\end{align*}\n",
    "The only derivative missing is $u'(s)$. Recall that we couldn't find an analytical expression for $u(s)$. Nevertheless, we can find the derivative from the inverse $s(u)$. We have\n",
    "\\begin{align*}\n",
    "    u'(s) &= [s'(u)]^{-1}\\\\\n",
    "    &= \\left[\\frac{d}{du} \\int_0^u \\sqrt{\\left( \\frac{dx}{d\\upsilon} \\right)^2 + \\left( \\frac{dy}{d\\upsilon} \\right)^2} \\, d\\upsilon \\right]^{-1}\\\\\n",
    "    &= \\left[\\sqrt{\\left( \\frac{dx}{du} \\right)^2 + \\left( \\frac{dy}{du} \\right)^2}\\right]^{-1}.\n",
    "\\end{align*}"
   ]
  },
  {
   "cell_type": "code",
   "execution_count": null,
   "metadata": {},
   "outputs": [],
   "source": [
    "def spline_param_of_disp_deriv(x_spline, y_spline, u):\n",
    "    return 1.0 / np.sqrt(spline_deriv(x_spline, u)**2 + spline_deriv(y_spline, u)**2)\n",
    "\n",
    "\n",
    "dsdt = accel_traj_get_vel(traj, t)\n",
    "\n",
    "duds = spline_param_of_disp_deriv(x_spline, y_spline, u)\n",
    "\n",
    "dxdu = spline_deriv(x_spline, u)\n",
    "dydu = spline_deriv(y_spline, u)\n",
    "\n",
    "dxdt = dxdu * duds * dsdt\n",
    "dydt = dydu * duds * dsdt\n",
    "\n",
    "\n",
    "plt.title('Spline Trajectory Velocity')\n",
    "plt.xlabel('time [s]')\n",
    "plt.ylabel('velocity [in/s]')\n",
    "plt.plot(t, dxdt, label='x')\n",
    "plt.plot(t, dydt, label='y')\n",
    "plt.legend()"
   ]
  },
  {
   "cell_type": "markdown",
   "metadata": {},
   "source": [
    "As an advanced exercise, try to compute the spline trajectory acceleration."
   ]
  },
  {
   "cell_type": "markdown",
   "metadata": {},
   "source": []
  }
 ],
 "metadata": {
  "kernelspec": {
   "display_name": "Python 3",
   "language": "python",
   "name": "python3"
  },
  "language_info": {
   "codemirror_mode": {
    "name": "ipython",
    "version": 3
   },
   "file_extension": ".py",
   "mimetype": "text/x-python",
   "name": "python",
   "nbconvert_exporter": "python",
   "pygments_lexer": "ipython3",
   "version": "3.8.3"
  }
 },
 "nbformat": 4,
 "nbformat_minor": 4
}
